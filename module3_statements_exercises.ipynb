{
 "cells": [
  {
   "cell_type": "markdown",
   "id": "5bc62950",
   "metadata": {},
   "source": [
    "## Statements Practice Exercises"
   ]
  },
  {
   "cell_type": "markdown",
   "id": "f84e01ed",
   "metadata": {},
   "source": [
    "_____\n",
    "**Use <code>for</code>, .split(), and <code>if</code> to create a Statement that will print out words that start with 's':**"
   ]
  },
  {
   "cell_type": "code",
   "execution_count": 1,
   "id": "50021b10",
   "metadata": {},
   "outputs": [
    {
     "name": "stdout",
     "output_type": "stream",
     "text": [
      "['Print', 'only', 'the', 'words', 'that', 'start', 'with', 's', 'in', 'this', 'sentence']\n"
     ]
    }
   ],
   "source": [
    "st = 'Print only the words that start with s in this sentence'"
   ]
  },
  {
   "cell_type": "code",
   "execution_count": 5,
   "id": "70250b46",
   "metadata": {},
   "outputs": [
    {
     "name": "stdout",
     "output_type": "stream",
     "text": [
      "words\n",
      "start\n",
      "s\n",
      "this\n",
      "sentence\n"
     ]
    }
   ],
   "source": [
    "st = 'Print only the words that start with s in this sentence'\n",
    "x = st.split()\n",
    "s = 0\n",
    "for word in x:\n",
    "    for letter in word:\n",
    "        if letter == \"s\":\n",
    "            s += 1\n",
    "    if s == 1:\n",
    "        print(word)\n",
    "        s -= 1\n",
    "        \n",
    "        \n",
    "        "
   ]
  },
  {
   "cell_type": "markdown",
   "id": "977af4df",
   "metadata": {},
   "source": [
    "______\n",
    "**Use range() to print all the even numbers from 0 to 10.**"
   ]
  },
  {
   "cell_type": "code",
   "execution_count": 6,
   "id": "b934409a",
   "metadata": {},
   "outputs": [
    {
     "name": "stdout",
     "output_type": "stream",
     "text": [
      "0\n",
      "2\n",
      "4\n",
      "6\n",
      "8\n",
      "10\n"
     ]
    }
   ],
   "source": [
    "for num in range(0,10+1):\n",
    "    if num%2 == 0:\n",
    "        print(num)\n"
   ]
  },
  {
   "cell_type": "markdown",
   "id": "024839ee",
   "metadata": {},
   "source": [
    "Write a program that prints the numbers from 1 to 10 using a for loop."
   ]
  },
  {
   "cell_type": "code",
   "execution_count": 7,
   "id": "7c8d7d4e",
   "metadata": {},
   "outputs": [
    {
     "name": "stdout",
     "output_type": "stream",
     "text": [
      "1\n",
      "2\n",
      "3\n",
      "4\n",
      "5\n",
      "6\n",
      "7\n",
      "8\n",
      "9\n",
      "10\n"
     ]
    }
   ],
   "source": [
    "for num in range(1,10+1):\n",
    "    print(num)"
   ]
  },
  {
   "cell_type": "markdown",
   "id": "0c6dc8ee",
   "metadata": {},
   "source": [
    "Write a program that calculates the sum of the numbers from 1 to 100 using a for loop."
   ]
  },
  {
   "cell_type": "code",
   "execution_count": 8,
   "id": "40217165",
   "metadata": {},
   "outputs": [
    {
     "name": "stdout",
     "output_type": "stream",
     "text": [
      "5050\n"
     ]
    }
   ],
   "source": [
    "x = 0\n",
    "for num in range(1,100+1):\n",
    "    x += num\n",
    "\n",
    "print(x)"
   ]
  },
  {
   "cell_type": "markdown",
   "id": "951d8ddd",
   "metadata": {},
   "source": [
    "Write a program that prints the even numbers from 1 to 20 using a for loop."
   ]
  },
  {
   "cell_type": "code",
   "execution_count": 9,
   "id": "10e456e5",
   "metadata": {},
   "outputs": [
    {
     "name": "stdout",
     "output_type": "stream",
     "text": [
      "2\n",
      "4\n",
      "6\n",
      "8\n",
      "10\n",
      "12\n",
      "14\n",
      "16\n",
      "18\n",
      "20\n"
     ]
    }
   ],
   "source": [
    "for num in range(1,20+1):\n",
    "    if num%2 == 0:\n",
    "        print(num)\n"
   ]
  },
  {
   "cell_type": "markdown",
   "id": "b95f2528",
   "metadata": {},
   "source": [
    "Write a program that prints the multiplication table of a given number up to 10 using a for loop."
   ]
  },
  {
   "cell_type": "code",
   "execution_count": 14,
   "id": "a3d02e29",
   "metadata": {},
   "outputs": [
    {
     "name": "stdout",
     "output_type": "stream",
     "text": [
      "Enter a number here: 7\n",
      "7  *  0  =  0\n",
      "7  *  1  =  7\n",
      "7  *  2  =  14\n",
      "7  *  3  =  21\n",
      "7  *  4  =  28\n",
      "7  *  5  =  35\n",
      "7  *  6  =  42\n",
      "7  *  7  =  49\n",
      "7  *  8  =  56\n",
      "7  *  9  =  63\n",
      "7  *  10  =  70\n"
     ]
    }
   ],
   "source": [
    "multiple = int(input(\"Enter a number here: \"))\n",
    "\n",
    "for num in range(0,10+1):\n",
    "    print(multiple ,\" * \", num ,\" = \",multiple*num)"
   ]
  },
  {
   "cell_type": "markdown",
   "id": "8041f3b7",
   "metadata": {},
   "source": [
    "Write a program that calculates the factorial of a given number using a for loop."
   ]
  },
  {
   "cell_type": "code",
   "execution_count": 19,
   "id": "61d3ccf3",
   "metadata": {},
   "outputs": [
    {
     "name": "stdout",
     "output_type": "stream",
     "text": [
      "Enter a number here: 5\n",
      "120\n"
     ]
    }
   ],
   "source": [
    "factorial = int(input(\"Enter a number here: \"))\n",
    "total = 1\n",
    "\n",
    "for num in range(1,factorial+1):\n",
    "    total *= num\n",
    "print(total)"
   ]
  },
  {
   "cell_type": "markdown",
   "id": "636ab73a",
   "metadata": {},
   "source": [
    "Write a program that prints the reverse of a given string using a for loop."
   ]
  },
  {
   "cell_type": "code",
   "execution_count": 12,
   "id": "80cf4db1",
   "metadata": {},
   "outputs": [],
   "source": []
  },
  {
   "cell_type": "markdown",
   "id": "b8fca617",
   "metadata": {},
   "source": [
    "Write a program that counts the number of vowels in a given string using a for loop."
   ]
  },
  {
   "cell_type": "code",
   "execution_count": 21,
   "id": "24e737f0",
   "metadata": {},
   "outputs": [
    {
     "name": "stdout",
     "output_type": "stream",
     "text": [
      "12\n"
     ]
    }
   ],
   "source": [
    "word = 'Print only the words that start with s in this sentence'\n",
    "x = word.split()\n",
    "vowel = \"AEIOUaeiou\"\n",
    "vowel_count = 0\n",
    "\n",
    "for word in x:\n",
    "    for letter in word:\n",
    "        for letts in vowel:\n",
    "            if letter == letts:\n",
    "                vowel_count += 1\n",
    "print(vowel_count)"
   ]
  },
  {
   "cell_type": "code",
   "execution_count": null,
   "id": "7f9d5fca",
   "metadata": {},
   "outputs": [],
   "source": []
  }
 ],
 "metadata": {
  "kernelspec": {
   "display_name": "Python 3 (ipykernel)",
   "language": "python",
   "name": "python3"
  },
  "language_info": {
   "codemirror_mode": {
    "name": "ipython",
    "version": 3
   },
   "file_extension": ".py",
   "mimetype": "text/x-python",
   "name": "python",
   "nbconvert_exporter": "python",
   "pygments_lexer": "ipython3",
   "version": "3.10.9"
  }
 },
 "nbformat": 4,
 "nbformat_minor": 5
}
